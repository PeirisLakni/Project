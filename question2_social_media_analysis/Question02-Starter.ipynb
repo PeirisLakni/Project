{
 "cells": [
  {
   "cell_type": "markdown",
   "id": "cdf7495f-c905-4f2e-baf9-547d1faae67c",
   "metadata": {},
   "source": [
    "# Data Analysis: E-commerce Data Analysis "
   ]
  },
  {
   "cell_type": "markdown",
   "id": "893f6051-9db7-4da9-91a4-b05594ec8234",
   "metadata": {},
   "source": [
    "Data Analysis in e-commerce involves gathering and examining data from diverse online retail sources to discover patterns in pricing, product ratings, and inventory management. By scraping product details: such as price changes, discounts, and stock levels from multiple websites and feeds, analysts can identify trends like seasonal pricing fluctuations, best-selling products, and customer satisfaction levels reflected in ratings. This multi-source approach provides a richer, more accurate understanding of market behavior, helping businesses set competitive prices, forecast demand, optimize stock, and improve customer experience. Ultimately, it turns raw, scattered online data into actionable insights for strategic decision-making in the digital marketplace."
   ]
  },
  {
   "cell_type": "markdown",
   "id": "66995639-2a51-4681-abf2-51ebc02c63b3",
   "metadata": {},
   "source": [
    "## A. Multi Source Data Collection"
   ]
  },
  {
   "cell_type": "markdown",
   "id": "ba4933e4-42fc-4621-aa83-2dd6b51d9ef7",
   "metadata": {},
   "source": [
    "### Install libraries for Web Scraping and Data Gathering"
   ]
  },
  {
   "cell_type": "code",
   "execution_count": 1,
   "id": "d9374edb-608a-425a-853c-c05938ad6244",
   "metadata": {
    "scrolled": true
   },
   "outputs": [],
   "source": [
    "#pip install pandas"
   ]
  },
  {
   "cell_type": "code",
   "execution_count": 2,
   "id": "43f1317c-1982-40da-8287-3c2012db7934",
   "metadata": {},
   "outputs": [],
   "source": [
    "#pip install lxml"
   ]
  },
  {
   "cell_type": "code",
   "execution_count": 3,
   "id": "20159bb5-3151-4e6b-b166-06cc7cde1613",
   "metadata": {},
   "outputs": [],
   "source": [
    "#pip install beautifulsoup4"
   ]
  },
  {
   "cell_type": "code",
   "execution_count": 4,
   "id": "c666ee06-b8b0-4012-bd3e-59281176f95b",
   "metadata": {},
   "outputs": [],
   "source": [
    "#pip install jupyterlab requests\n"
   ]
  },
  {
   "cell_type": "code",
   "execution_count": 5,
   "id": "c225d3f5-bb35-41e3-bafc-7c3a57752e2a",
   "metadata": {},
   "outputs": [],
   "source": [
    "#pip install feedparser"
   ]
  },
  {
   "cell_type": "code",
   "execution_count": 6,
   "id": "d5462c18-2567-4613-bb19-bfa7ea728a34",
   "metadata": {},
   "outputs": [],
   "source": [
    "import logging\n",
    "import time\n",
    "import random\n",
    "from typing import List, Dict, Optional\n",
    "from urllib.parse import urljoin\n",
    "\n",
    "import requests\n",
    "from bs4 import BeautifulSoup\n",
    "import pandas as pd\n",
    "import feedparser\n",
    "import re\n",
    "from pathlib import Path\n",
    "import pandas as json"
   ]
  },
  {
   "cell_type": "markdown",
   "id": "3eed4242-ef16-47a6-b5dd-7a4c70d65180",
   "metadata": {},
   "source": [
    "1. Scraping of Book Data"
   ]
  },
  {
   "cell_type": "markdown",
   "id": "7de81aee-ffef-4b46-bfca-6077d3ef226f",
   "metadata": {},
   "source": [
    "- A) LOGGING & HTTP HELPERS"
   ]
  },
  {
   "cell_type": "code",
   "execution_count": 7,
   "id": "e08c3475-9a83-4128-8c5d-9eb45b0ddbfc",
   "metadata": {},
   "outputs": [],
   "source": [
    "logging.basicConfig(level=logging.INFO, format=\"%(levelname)s: %(message)s\")\n",
    "\n",
    "def get_html(url, timeout=15): #define a function to get web pages\n",
    "    try:\n",
    "        r = requests.get(url, timeout=timeout, headers={\"User-Agent\":\"Mozilla/5.0 (edu-scraper)\"}) #define the http request \n",
    "        r.raise_for_status() #checking http status code\n",
    "        return r.text #return the web page as a string\n",
    "    except requests.RequestException as e: #Handling of errors gracefully\n",
    "        logging.warning(f\"Request failed: {e}\")\n",
    "        return None\n"
   ]
  },
  {
   "cell_type": "markdown",
   "id": "f4417042-aa98-4cf0-b025-9432936a6d34",
   "metadata": {},
   "source": [
    "- B) SCRAPER 1: Books to Scrape (All pg)"
   ]
  },
  {
   "cell_type": "code",
   "execution_count": 8,
   "id": "12134f94-9a74-4b25-a413-3eb6ca195a85",
   "metadata": {},
   "outputs": [
    {
     "data": {
      "text/plain": [
       "(20,\n",
       " '<article class=\"product_pod\">\\n <div class=\"image_container\">\\n  <a href=\"catalogue/a-light-in-the-attic_1000/index.html\">\\n   <img alt=\"A Light in the Attic\" class=\"thumbnail\" src=\"media/cache/2c/da/2cdad67c44b002e7ead0cc35693c0e8b.jpg\"/>\\n  </a>\\n </div>\\n <p class=\"star-rating Three\">\\n  <i class=\"icon-star\">\\n  </i>\\n  <i class=\"icon-star\">\\n  </i>\\n  <i class=\"icon-star\">\\n  </i>\\n  <i class=\"icon-star\">\\n  </i>\\n  <i class=\"icon-star\">\\n  </i>\\n </p>\\n <h3>\\n  <a href=\"catalogue/a-light-in-the-attic_1000/ind')"
      ]
     },
     "execution_count": 8,
     "metadata": {},
     "output_type": "execute_result"
    }
   ],
   "source": [
    "BASE = \"http://books.toscrape.com/\"\n",
    "\n",
    "html = get_html(BASE)\n",
    "soup = BeautifulSoup(html, \"lxml\")\n",
    "\n",
    "# grab the first page’s book tiles\n",
    "products = soup.select(\"article.product_pod\")\n",
    "len(products), products[0].prettify()[:500]"
   ]
  },
  {
   "cell_type": "markdown",
   "id": "938a9868-464e-44d9-b81e-421ea2509d16",
   "metadata": {},
   "source": [
    "- C) Extract fields from tiles"
   ]
  },
  {
   "cell_type": "code",
   "execution_count": 9,
   "id": "484c9f44-05b2-435a-8ad8-684cd105d3c2",
   "metadata": {},
   "outputs": [
    {
     "data": {
      "text/plain": [
       "[{'title': 'A Light in the Attic',\n",
       "  'price': 51.77,\n",
       "  'rating': 3,\n",
       "  'availability': 'In stock',\n",
       "  'product_url': 'http://books.toscrape.com/catalogue/a-light-in-the-attic_1000/index.html'},\n",
       " {'title': 'Tipping the Velvet',\n",
       "  'price': 53.74,\n",
       "  'rating': 1,\n",
       "  'availability': 'In stock',\n",
       "  'product_url': 'http://books.toscrape.com/catalogue/tipping-the-velvet_999/index.html'},\n",
       " {'title': 'Soumission',\n",
       "  'price': 50.1,\n",
       "  'rating': 1,\n",
       "  'availability': 'In stock',\n",
       "  'product_url': 'http://books.toscrape.com/catalogue/soumission_998/index.html'}]"
      ]
     },
     "execution_count": 9,
     "metadata": {},
     "output_type": "execute_result"
    }
   ],
   "source": [
    "def rating_from_class(classes):\n",
    "    mapping = {\"One\":1,\"Two\":2,\"Three\":3,\"Four\":4,\"Five\":5}\n",
    "    for c in classes or []:\n",
    "        if c in mapping: return mapping[c]\n",
    "    return None\n",
    "\n",
    "def parse_price(text):\n",
    "    # Remove both £ and Â characters before converting to float\n",
    "    cleaned_text = text.replace(\"£\", \"\").replace(\"Â\", \"\").strip()\n",
    "    return float(cleaned_text)\n",
    "\n",
    "rows = []\n",
    "for art in products:\n",
    "    title = art.h3.a[\"title\"]\n",
    "    rel = art.h3.a[\"href\"]\n",
    "    product_url = BASE + rel.replace(\"../\",\"\")\n",
    "    price = parse_price(art.select_one(\".price_color\").get_text())\n",
    "    rating = rating_from_class(art.select_one(\"p.star-rating\")[\"class\"])\n",
    "    availability = art.select_one(\".availability\").get_text(strip=True)\n",
    "    rows.append({\"title\":title, \"price\":price, \"rating\":rating, \"availability\":availability, \"product_url\":product_url})\n",
    "\n",
    "rows[:3]\n",
    "\n"
   ]
  },
  {
   "cell_type": "markdown",
   "id": "a63b9701-4c39-46a4-83a5-d1b68f7870e2",
   "metadata": {},
   "source": [
    "- D) Loop categories and finding Next Page Link"
   ]
  },
  {
   "cell_type": "code",
   "execution_count": 11,
   "id": "47a1b5ae-1547-4e6c-8bd3-e074d647a651",
   "metadata": {},
   "outputs": [
    {
     "data": {
      "text/plain": [
       "(1011,\n",
       " [{'title': 'A Light in the Attic',\n",
       "   'price': 51.77,\n",
       "   'rating': 3,\n",
       "   'availability': 'In stock',\n",
       "   'product_url': 'http://books.toscrape.com/catalogue/a-light-in-the-attic_1000/index.html'},\n",
       "  {'title': 'Tipping the Velvet',\n",
       "   'price': 53.74,\n",
       "   'rating': 1,\n",
       "   'availability': 'In stock',\n",
       "   'product_url': 'http://books.toscrape.com/catalogue/tipping-the-velvet_999/index.html'}])"
      ]
     },
     "execution_count": 11,
     "metadata": {},
     "output_type": "execute_result"
    }
   ],
   "source": [
    "from bs4 import BeautifulSoup\n",
    "all_rows = []\n",
    "\n",
    "for cat_url in category_urls[:2]:  # start with just first 2 categories to test\n",
    "    page_url = cat_url\n",
    "    while page_url:\n",
    "        html = get_html(page_url)\n",
    "        if not html: break\n",
    "        page = BeautifulSoup(html, \"lxml\")\n",
    "        # extract products from this page\n",
    "        for art in page.select(\"article.product_pod\"):\n",
    "            title = art.h3.a[\"title\"]\n",
    "            rel = art.h3.a[\"href\"]\n",
    "            product_url = BASE + \"catalogue/\" + rel.replace(\"../\",\"\")\n",
    "            price = parse_price(art.select_one(\".price_color\").get_text())\n",
    "            rating = rating_from_class(art.select_one(\"p.star-rating\")[\"class\"])\n",
    "            availability = art.select_one(\".availability\").get_text(strip=True)\n",
    "            all_rows.append({\"title\":title,\"price\":price,\"rating\":rating,\"availability\":availability,\"product_url\":product_url})\n",
    "\n",
    "        # find next page link\n",
    "        nxt = page.select_one(\"li.next a\")\n",
    "        if nxt:\n",
    "            # build next URL relative to current\n",
    "            if \"/index.html\" in page_url:\n",
    "                base_page = page_url.rsplit(\"/\",1)[0] + \"/\"\n",
    "            else:\n",
    "                base_page = page_url if page_url.endswith(\"/\") else page_url.rsplit(\"/\",1)[0] + \"/\"\n",
    "            page_url = base_page + nxt[\"href\"]\n",
    "        else:\n",
    "            page_url = None\n",
    "\n",
    "len(all_rows), all_rows[:2]\n"
   ]
  },
  {
   "cell_type": "markdown",
   "id": "568139bd-7a22-4d02-9779-be87e2bb7ab9",
   "metadata": {},
   "source": [
    "- E) Pagination Handling"
   ]
  },
  {
   "cell_type": "code",
   "execution_count": 10,
   "id": "c70bd3f3-59ad-40f9-938f-ac09e7a4e54a",
   "metadata": {},
   "outputs": [
    {
     "data": {
      "text/plain": [
       "(['http://books.toscrape.com/catalogue/category/books_1/index.html',\n",
       "  'http://books.toscrape.com/catalogue/category/books/travel_2/index.html',\n",
       "  'http://books.toscrape.com/catalogue/category/books/mystery_3/index.html',\n",
       "  'http://books.toscrape.com/catalogue/category/books/historical-fiction_4/index.html',\n",
       "  'http://books.toscrape.com/catalogue/category/books/sequential-art_5/index.html'],\n",
       " 51)"
      ]
     },
     "execution_count": 10,
     "metadata": {},
     "output_type": "execute_result"
    }
   ],
   "source": [
    "# find all category links \n",
    "cat_links = [a.get(\"href\") for a in soup.select(\".side_categories a\") if a.get(\"href\")]\n",
    "category_urls = [BASE + href for href in cat_links if \"catalogue/category\" in href]\n",
    "category_urls[:5], len(category_urls)"
   ]
  },
  {
   "cell_type": "markdown",
   "id": "f0ee2cc8-095a-4630-8006-b4eb55d307fa",
   "metadata": {},
   "source": [
    "- F) Data Fields and Formats for output"
   ]
  },
  {
   "cell_type": "code",
   "execution_count": 13,
   "id": "a41a8d8c-8f93-4910-8716-3ec603e84c12",
   "metadata": {
    "scrolled": true
   },
   "outputs": [
    {
     "data": {
      "text/html": [
       "<div>\n",
       "<style scoped>\n",
       "    .dataframe tbody tr th:only-of-type {\n",
       "        vertical-align: middle;\n",
       "    }\n",
       "\n",
       "    .dataframe tbody tr th {\n",
       "        vertical-align: top;\n",
       "    }\n",
       "\n",
       "    .dataframe thead th {\n",
       "        text-align: right;\n",
       "    }\n",
       "</style>\n",
       "<table border=\"1\" class=\"dataframe\">\n",
       "  <thead>\n",
       "    <tr style=\"text-align: right;\">\n",
       "      <th></th>\n",
       "      <th>title</th>\n",
       "      <th>price</th>\n",
       "      <th>rating</th>\n",
       "      <th>availability</th>\n",
       "      <th>product_url</th>\n",
       "    </tr>\n",
       "  </thead>\n",
       "  <tbody>\n",
       "    <tr>\n",
       "      <th>0</th>\n",
       "      <td>A Light in the Attic</td>\n",
       "      <td>51.77</td>\n",
       "      <td>3</td>\n",
       "      <td>In stock</td>\n",
       "      <td>http://books.toscrape.com/catalogue/a-light-in...</td>\n",
       "    </tr>\n",
       "    <tr>\n",
       "      <th>1</th>\n",
       "      <td>Tipping the Velvet</td>\n",
       "      <td>53.74</td>\n",
       "      <td>1</td>\n",
       "      <td>In stock</td>\n",
       "      <td>http://books.toscrape.com/catalogue/tipping-th...</td>\n",
       "    </tr>\n",
       "    <tr>\n",
       "      <th>2</th>\n",
       "      <td>Soumission</td>\n",
       "      <td>50.10</td>\n",
       "      <td>1</td>\n",
       "      <td>In stock</td>\n",
       "      <td>http://books.toscrape.com/catalogue/soumission...</td>\n",
       "    </tr>\n",
       "    <tr>\n",
       "      <th>3</th>\n",
       "      <td>Sharp Objects</td>\n",
       "      <td>47.82</td>\n",
       "      <td>4</td>\n",
       "      <td>In stock</td>\n",
       "      <td>http://books.toscrape.com/catalogue/sharp-obje...</td>\n",
       "    </tr>\n",
       "    <tr>\n",
       "      <th>4</th>\n",
       "      <td>Sapiens: A Brief History of Humankind</td>\n",
       "      <td>54.23</td>\n",
       "      <td>5</td>\n",
       "      <td>In stock</td>\n",
       "      <td>http://books.toscrape.com/catalogue/sapiens-a-...</td>\n",
       "    </tr>\n",
       "  </tbody>\n",
       "</table>\n",
       "</div>"
      ],
      "text/plain": [
       "                                   title  price  rating availability  \\\n",
       "0                   A Light in the Attic  51.77       3     In stock   \n",
       "1                     Tipping the Velvet  53.74       1     In stock   \n",
       "2                             Soumission  50.10       1     In stock   \n",
       "3                          Sharp Objects  47.82       4     In stock   \n",
       "4  Sapiens: A Brief History of Humankind  54.23       5     In stock   \n",
       "\n",
       "                                         product_url  \n",
       "0  http://books.toscrape.com/catalogue/a-light-in...  \n",
       "1  http://books.toscrape.com/catalogue/tipping-th...  \n",
       "2  http://books.toscrape.com/catalogue/soumission...  \n",
       "3  http://books.toscrape.com/catalogue/sharp-obje...  \n",
       "4  http://books.toscrape.com/catalogue/sapiens-a-...  "
      ]
     },
     "execution_count": 13,
     "metadata": {},
     "output_type": "execute_result"
    }
   ],
   "source": [
    "RAW_DIR = Path(r\"C:\\Users\\NSBMIT\\Documents\\MSc\\Data Analysis E Commerce Data Analysis\\data collection\"); RAW_DIR.mkdir(parents=True, exist_ok=True)\n",
    "\n",
    "df_books = pd.DataFrame(all_rows)\n",
    "df_books.to_csv(RAW_DIR / \"books.csv\", index=False)\n",
    "df_books.to_json(RAW_DIR / \"books.json\", orient=\"records\", indent=2)\n",
    "df_books.head()\n"
   ]
  },
  {
   "cell_type": "markdown",
   "id": "e6a7d570-b091-4e8f-91a1-1026fb606972",
   "metadata": {},
   "source": [
    "- G) Retry and Error Handling"
   ]
  },
  {
   "cell_type": "code",
   "execution_count": 14,
   "id": "78c28e3f-9cd1-4fe9-9e87-4ad07ec24501",
   "metadata": {},
   "outputs": [],
   "source": [
    "from requests.adapters import HTTPAdapter\n",
    "from urllib3.util.retry import Retry\n",
    "\n",
    "def make_session():\n",
    "    s = requests.Session()\n",
    "    s.headers.update({\"User-Agent\":\"Mozilla/5.0 (edu-scraper)\"})\n",
    "    retry = Retry(\n",
    "        total=5, backoff_factor=0.5,\n",
    "        status_forcelist=[429,500,502,503,504],\n",
    "        allowed_methods=[\"GET\",\"HEAD\"]\n",
    "    )\n",
    "    adapter = HTTPAdapter(max_retries=retry)\n",
    "    s.mount(\"http://\", adapter); s.mount(\"https://\", adapter)\n",
    "    return s\n",
    "\n",
    "def polite_get(session, url, timeout=15, min_s=0.8, max_s=1.8):\n",
    "    try:\n",
    "        r = session.get(url, timeout=timeout)\n",
    "        r.raise_for_status()\n",
    "        time.sleep(random.uniform(min_s, max_s))  # be polite\n",
    "        return r.text\n",
    "    except requests.RequestException as e:\n",
    "        logging.warning(f\"Fetch failed for {url}: {e}\")\n",
    "        return None\n",
    "\n",
    "session = make_session()\n"
   ]
  },
  {
   "cell_type": "code",
   "execution_count": 15,
   "id": "cdfd61cc-82ef-4ea1-a5fa-9e19ba342d0c",
   "metadata": {},
   "outputs": [
    {
     "data": {
      "text/plain": [
       "1011"
      ]
     },
     "execution_count": 15,
     "metadata": {},
     "output_type": "execute_result"
    }
   ],
   "source": [
    "def scrape_books(session, limit_categories=2):\n",
    "    html = polite_get(session, BASE)\n",
    "    soup = BeautifulSoup(html, \"lxml\")\n",
    "    cat_links = [a.get(\"href\") for a in soup.select(\".side_categories a\") if a.get(\"href\")]\n",
    "    category_urls = [BASE + href for href in cat_links if \"catalogue/category\" in href]\n",
    "    if limit_categories: category_urls = category_urls[:limit_categories]\n",
    "\n",
    "    rows = []\n",
    "    for cat_url in category_urls:\n",
    "        page_url = cat_url\n",
    "        while page_url:\n",
    "            page_html = polite_get(session, page_url)\n",
    "            if not page_html: break\n",
    "            page = BeautifulSoup(page_html, \"lxml\")\n",
    "            for art in page.select(\"article.product_pod\"):\n",
    "                title = art.h3.a[\"title\"]\n",
    "                rel = art.h3.a[\"href\"]\n",
    "                product_url = BASE + \"catalogue/\" + rel.replace(\"../\",\"\")\n",
    "                price = parse_price(art.select_one(\".price_color\").get_text())\n",
    "                rating = rating_from_class(art.select_one(\"p.star-rating\")[\"class\"])\n",
    "                availability = art.select_one(\".availability\").get_text(strip=True)\n",
    "                rows.append({\"title\":title,\"price\":price,\"rating\":rating,\"availability\":availability,\"product_url\":product_url})\n",
    "            nxt = page.select_one(\"li.next a\")\n",
    "            if nxt:\n",
    "                if \"/index.html\" in page_url:\n",
    "                    base_page = page_url.rsplit(\"/\",1)[0] + \"/\"\n",
    "                else:\n",
    "                    base_page = page_url if page_url.endswith(\"/\") else page_url.rsplit(\"/\",1)[0] + \"/\"\n",
    "                page_url = base_page + nxt[\"href\"]\n",
    "            else:\n",
    "                page_url = None\n",
    "    return rows\n",
    "\n",
    "rows = scrape_books(session, limit_categories=2)\n",
    "len(rows)\n"
   ]
  },
  {
   "cell_type": "markdown",
   "id": "1faa4564-70e4-49d0-b2c2-d48011758b31",
   "metadata": {},
   "source": [
    "2. Scrape a second demo e-commerce site"
   ]
  },
  {
   "cell_type": "code",
   "execution_count": 16,
   "id": "07f021ec-61b2-458e-b423-eca197ad5c41",
   "metadata": {},
   "outputs": [
    {
     "data": {
      "text/plain": [
       "(18,\n",
       " [{'title': 'Packard 255 G2',\n",
       "   'price': 416.99,\n",
       "   'rating': 2,\n",
       "   'category': 'Computers',\n",
       "   'subcategory': 'Laptops',\n",
       "   'product_url': 'https://webscraper.io/test-sites/e-commerce/static/product/31'},\n",
       "  {'title': 'Aspire E1-510',\n",
       "   'price': 306.99,\n",
       "   'rating': 3,\n",
       "   'category': 'Computers',\n",
       "   'subcategory': 'Laptops',\n",
       "   'product_url': 'https://webscraper.io/test-sites/e-commerce/static/product/32'}])"
      ]
     },
     "execution_count": 16,
     "metadata": {},
     "output_type": "execute_result"
    }
   ],
   "source": [
    "DEMO_ROOT = \"https://webscraper.io/test-sites/e-commerce/static\"\n",
    "\n",
    "def parse_price_generic(text):\n",
    "    import re\n",
    "    m = re.search(r\"([\\d.,]+)\", text)\n",
    "    return float(m.group(1).replace(\",\",\"\")) if m else None\n",
    "\n",
    "def scrape_demo(session):\n",
    "    out = []\n",
    "    root = polite_get(session, DEMO_ROOT)\n",
    "    soup = BeautifulSoup(root, \"lxml\")\n",
    "\n",
    "    cats = [(a.get_text(strip=True), a.get(\"href\")) for a in soup.select(\".category-link\")]\n",
    "    for cat_name, href in cats:\n",
    "        cat_url = DEMO_ROOT if href == \"#\" else \"https://webscraper.io\" + href\n",
    "        cat_html = polite_get(session, cat_url)\n",
    "        if not cat_html: continue\n",
    "        cat_soup = BeautifulSoup(cat_html, \"lxml\")\n",
    "        subs = [(a.get_text(strip=True), \"https://webscraper.io\" + a.get(\"href\")) for a in cat_soup.select(\".subcategory-link\")]\n",
    "        if not subs:\n",
    "            subs = [(cat_name, cat_url)]\n",
    "        for sub_name, sub_url in subs:\n",
    "            sub_html = polite_get(session, sub_url)\n",
    "            if not sub_html: continue\n",
    "            sub_soup = BeautifulSoup(sub_html, \"lxml\")\n",
    "            for card in sub_soup.select(\".thumbnail\"):\n",
    "                title_el = card.select_one(\".title\")\n",
    "                price_el = card.select_one(\".price\")\n",
    "                rating_el = card.select_one(\".ratings p[data-rating]\")\n",
    "                out.append({\n",
    "                    \"title\": title_el.get_text(strip=True),\n",
    "                    \"price\": parse_price_generic(price_el.get_text(strip=True)),\n",
    "                    \"rating\": int(rating_el[\"data-rating\"]) if rating_el and rating_el.has_attr(\"data-rating\") else None,\n",
    "                    \"category\": cat_name,\n",
    "                    \"subcategory\": sub_name,\n",
    "                    \"product_url\": \"https://webscraper.io\" + title_el[\"href\"]\n",
    "                })\n",
    "    return out\n",
    "\n",
    "demo_rows = scrape_demo(session)\n",
    "len(demo_rows), demo_rows[:2]\n"
   ]
  },
  {
   "cell_type": "markdown",
   "id": "80e80dd7-0191-43b9-8af5-3736f5a5d619",
   "metadata": {},
   "source": [
    "- Data Fields and Output"
   ]
  },
  {
   "cell_type": "code",
   "execution_count": 20,
   "id": "745f80f3-4aff-4c5e-8352-047341a930e7",
   "metadata": {},
   "outputs": [
    {
     "data": {
      "text/html": [
       "<div>\n",
       "<style scoped>\n",
       "    .dataframe tbody tr th:only-of-type {\n",
       "        vertical-align: middle;\n",
       "    }\n",
       "\n",
       "    .dataframe tbody tr th {\n",
       "        vertical-align: top;\n",
       "    }\n",
       "\n",
       "    .dataframe thead th {\n",
       "        text-align: right;\n",
       "    }\n",
       "</style>\n",
       "<table border=\"1\" class=\"dataframe\">\n",
       "  <thead>\n",
       "    <tr style=\"text-align: right;\">\n",
       "      <th></th>\n",
       "      <th>title</th>\n",
       "      <th>price</th>\n",
       "      <th>rating</th>\n",
       "      <th>category</th>\n",
       "      <th>subcategory</th>\n",
       "      <th>product_url</th>\n",
       "    </tr>\n",
       "  </thead>\n",
       "  <tbody>\n",
       "    <tr>\n",
       "      <th>0</th>\n",
       "      <td>Packard 255 G2</td>\n",
       "      <td>416.99</td>\n",
       "      <td>2</td>\n",
       "      <td>Computers</td>\n",
       "      <td>Laptops</td>\n",
       "      <td>https://webscraper.io/test-sites/e-commerce/st...</td>\n",
       "    </tr>\n",
       "    <tr>\n",
       "      <th>1</th>\n",
       "      <td>Aspire E1-510</td>\n",
       "      <td>306.99</td>\n",
       "      <td>3</td>\n",
       "      <td>Computers</td>\n",
       "      <td>Laptops</td>\n",
       "      <td>https://webscraper.io/test-sites/e-commerce/st...</td>\n",
       "    </tr>\n",
       "    <tr>\n",
       "      <th>2</th>\n",
       "      <td>ThinkPad T540p</td>\n",
       "      <td>1178.99</td>\n",
       "      <td>1</td>\n",
       "      <td>Computers</td>\n",
       "      <td>Laptops</td>\n",
       "      <td>https://webscraper.io/test-sites/e-commerce/st...</td>\n",
       "    </tr>\n",
       "    <tr>\n",
       "      <th>3</th>\n",
       "      <td>ProBook</td>\n",
       "      <td>739.99</td>\n",
       "      <td>4</td>\n",
       "      <td>Computers</td>\n",
       "      <td>Laptops</td>\n",
       "      <td>https://webscraper.io/test-sites/e-commerce/st...</td>\n",
       "    </tr>\n",
       "    <tr>\n",
       "      <th>4</th>\n",
       "      <td>ThinkPad X240</td>\n",
       "      <td>1311.99</td>\n",
       "      <td>3</td>\n",
       "      <td>Computers</td>\n",
       "      <td>Laptops</td>\n",
       "      <td>https://webscraper.io/test-sites/e-commerce/st...</td>\n",
       "    </tr>\n",
       "  </tbody>\n",
       "</table>\n",
       "</div>"
      ],
      "text/plain": [
       "            title    price  rating   category subcategory  \\\n",
       "0  Packard 255 G2   416.99       2  Computers     Laptops   \n",
       "1   Aspire E1-510   306.99       3  Computers     Laptops   \n",
       "2  ThinkPad T540p  1178.99       1  Computers     Laptops   \n",
       "3         ProBook   739.99       4  Computers     Laptops   \n",
       "4   ThinkPad X240  1311.99       3  Computers     Laptops   \n",
       "\n",
       "                                         product_url  \n",
       "0  https://webscraper.io/test-sites/e-commerce/st...  \n",
       "1  https://webscraper.io/test-sites/e-commerce/st...  \n",
       "2  https://webscraper.io/test-sites/e-commerce/st...  \n",
       "3  https://webscraper.io/test-sites/e-commerce/st...  \n",
       "4  https://webscraper.io/test-sites/e-commerce/st...  "
      ]
     },
     "execution_count": 20,
     "metadata": {},
     "output_type": "execute_result"
    }
   ],
   "source": [
    "import pandas as pd, json\n",
    "demo_df = pd.DataFrame(demo_rows)\n",
    "demo_df.to_csv(RAW_DIR / \"demo_ecom.csv\", index=False)\n",
    "demo_df.to_json(RAW_DIR / \"demo_ecom.json\", orient=\"records\", indent=2)\n",
    "demo_df.head()\n"
   ]
  },
  {
   "cell_type": "markdown",
   "id": "749650d4-ec7d-4300-be48-3cf8fc96ed9e",
   "metadata": {},
   "source": [
    "3. Web Scraping Workflow – Structured Data from RSS Feeds"
   ]
  },
  {
   "cell_type": "code",
   "execution_count": 21,
   "id": "8ddad700-c99a-4375-9494-9f6b3bbeee9d",
   "metadata": {},
   "outputs": [
    {
     "data": {
      "text/html": [
       "<div>\n",
       "<style scoped>\n",
       "    .dataframe tbody tr th:only-of-type {\n",
       "        vertical-align: middle;\n",
       "    }\n",
       "\n",
       "    .dataframe tbody tr th {\n",
       "        vertical-align: top;\n",
       "    }\n",
       "\n",
       "    .dataframe thead th {\n",
       "        text-align: right;\n",
       "    }\n",
       "</style>\n",
       "<table border=\"1\" class=\"dataframe\">\n",
       "  <thead>\n",
       "    <tr style=\"text-align: right;\">\n",
       "      <th></th>\n",
       "      <th>feed_url</th>\n",
       "      <th>title</th>\n",
       "      <th>link</th>\n",
       "      <th>pub_date</th>\n",
       "      <th>category</th>\n",
       "    </tr>\n",
       "  </thead>\n",
       "  <tbody>\n",
       "    <tr>\n",
       "      <th>0</th>\n",
       "      <td>https://news.ycombinator.com/rss</td>\n",
       "      <td>ChatControl: EU wants to scan all private mess...</td>\n",
       "      <td>https://metalhearf.fr/posts/chatcontrol-wants-...</td>\n",
       "      <td>Thu, 25 Sep 2025 16:01:41 +0000</td>\n",
       "      <td>None</td>\n",
       "    </tr>\n",
       "    <tr>\n",
       "      <th>1</th>\n",
       "      <td>https://news.ycombinator.com/rss</td>\n",
       "      <td>ChatGPT Pulse</td>\n",
       "      <td>https://openai.com/index/introducing-chatgpt-p...</td>\n",
       "      <td>Thu, 25 Sep 2025 16:59:55 +0000</td>\n",
       "      <td>None</td>\n",
       "    </tr>\n",
       "    <tr>\n",
       "      <th>2</th>\n",
       "      <td>https://news.ycombinator.com/rss</td>\n",
       "      <td>Brutalita Sans: An Experimental Font and Font ...</td>\n",
       "      <td>https://brutalita.com/</td>\n",
       "      <td>Tue, 23 Sep 2025 13:54:10 +0000</td>\n",
       "      <td>None</td>\n",
       "    </tr>\n",
       "    <tr>\n",
       "      <th>3</th>\n",
       "      <td>https://news.ycombinator.com/rss</td>\n",
       "      <td>Improved Gemini 2.5 Flash and Flash-Lite</td>\n",
       "      <td>https://developers.googleblog.com/en/continuin...</td>\n",
       "      <td>Thu, 25 Sep 2025 17:20:56 +0000</td>\n",
       "      <td>None</td>\n",
       "    </tr>\n",
       "    <tr>\n",
       "      <th>4</th>\n",
       "      <td>https://news.ycombinator.com/rss</td>\n",
       "      <td>The Harvard-Emory ECG Database</td>\n",
       "      <td>https://bdsp.io/content/heedb/4.0/</td>\n",
       "      <td>Thu, 25 Sep 2025 16:31:02 +0000</td>\n",
       "      <td>None</td>\n",
       "    </tr>\n",
       "  </tbody>\n",
       "</table>\n",
       "</div>"
      ],
      "text/plain": [
       "                           feed_url  \\\n",
       "0  https://news.ycombinator.com/rss   \n",
       "1  https://news.ycombinator.com/rss   \n",
       "2  https://news.ycombinator.com/rss   \n",
       "3  https://news.ycombinator.com/rss   \n",
       "4  https://news.ycombinator.com/rss   \n",
       "\n",
       "                                               title  \\\n",
       "0  ChatControl: EU wants to scan all private mess...   \n",
       "1                                      ChatGPT Pulse   \n",
       "2  Brutalita Sans: An Experimental Font and Font ...   \n",
       "3           Improved Gemini 2.5 Flash and Flash-Lite   \n",
       "4                     The Harvard-Emory ECG Database   \n",
       "\n",
       "                                                link  \\\n",
       "0  https://metalhearf.fr/posts/chatcontrol-wants-...   \n",
       "1  https://openai.com/index/introducing-chatgpt-p...   \n",
       "2                             https://brutalita.com/   \n",
       "3  https://developers.googleblog.com/en/continuin...   \n",
       "4                 https://bdsp.io/content/heedb/4.0/   \n",
       "\n",
       "                          pub_date category  \n",
       "0  Thu, 25 Sep 2025 16:01:41 +0000     None  \n",
       "1  Thu, 25 Sep 2025 16:59:55 +0000     None  \n",
       "2  Tue, 23 Sep 2025 13:54:10 +0000     None  \n",
       "3  Thu, 25 Sep 2025 17:20:56 +0000     None  \n",
       "4  Thu, 25 Sep 2025 16:31:02 +0000     None  "
      ]
     },
     "execution_count": 21,
     "metadata": {},
     "output_type": "execute_result"
    }
   ],
   "source": [
    "RSS_FEEDS = [\n",
    "    \"https://news.ycombinator.com/rss\",\n",
    "    \"https://planetpython.org/rss20.xml\"\n",
    "]\n",
    "\n",
    "def parse_rss(session, feeds):\n",
    "    items = []\n",
    "    for url in feeds:\n",
    "        txt = polite_get(session, url)\n",
    "        if not txt: continue\n",
    "        feed = BeautifulSoup(txt, \"xml\")\n",
    "        for item in feed.find_all(\"item\"):\n",
    "            items.append({\n",
    "                \"feed_url\": url,\n",
    "                \"title\": item.title.text if item.title else \"\",\n",
    "                \"link\": item.link.text if item.link else \"\",\n",
    "                \"pub_date\": item.pubDate.text if item.pubDate else None,\n",
    "                \"category\": item.category.text if item.category else None\n",
    "            })\n",
    "    return items\n",
    "\n",
    "rss_rows = parse_rss(session, RSS_FEEDS)\n",
    "import pandas as pd\n",
    "rss_df = pd.DataFrame(rss_rows)\n",
    "rss_df.to_csv(RAW_DIR / \"rss_items.csv\", index=False)\n",
    "rss_df.to_json(RAW_DIR / \"rss_items.json\", orient = \"records\", index=2)\n",
    "rss_df.head()\n"
   ]
  },
  {
   "cell_type": "markdown",
   "id": "fe4d7afc-037a-425b-b6a3-1628da8dc851",
   "metadata": {},
   "source": [
    "4. Extracting numerical and categorical data for analysis"
   ]
  },
  {
   "cell_type": "code",
   "execution_count": 22,
   "id": "db488c8b-a404-4a7a-ba20-62db01e1489e",
   "metadata": {},
   "outputs": [
    {
     "name": "stdout",
     "output_type": "stream",
     "text": [
      "Books — price summary:\n"
     ]
    },
    {
     "data": {
      "text/plain": [
       "count    1011.00\n",
       "mean       35.12\n",
       "std        14.41\n",
       "min        10.00\n",
       "25%        22.13\n",
       "50%        36.17\n",
       "75%        47.47\n",
       "max        59.99\n",
       "Name: price, dtype: float64"
      ]
     },
     "metadata": {},
     "output_type": "display_data"
    },
    {
     "name": "stdout",
     "output_type": "stream",
     "text": [
      "Books — avg price by category:\n"
     ]
    },
    {
     "data": {
      "text/plain": [
       "availability\n",
       "In stock    35.121751\n",
       "Name: price, dtype: float64"
      ]
     },
     "metadata": {},
     "output_type": "display_data"
    },
    {
     "name": "stdout",
     "output_type": "stream",
     "text": [
      "Demo — price summary:\n"
     ]
    },
    {
     "data": {
      "text/plain": [
       "count      18.00\n",
       "mean      357.99\n",
       "std       389.65\n",
       "min        24.99\n",
       "25%        94.74\n",
       "50%       114.49\n",
       "75%       528.49\n",
       "max      1311.99\n",
       "Name: price, dtype: float64"
      ]
     },
     "metadata": {},
     "output_type": "display_data"
    },
    {
     "name": "stdout",
     "output_type": "stream",
     "text": [
      "Ratings (books then demo):\n"
     ]
    },
    {
     "data": {
      "text/plain": [
       "rating\n",
       "1    228\n",
       "2    199\n",
       "3    206\n",
       "4    181\n",
       "5    197\n",
       "Name: count, dtype: int64"
      ]
     },
     "metadata": {},
     "output_type": "display_data"
    },
    {
     "data": {
      "text/plain": [
       "rating\n",
       "1    5\n",
       "2    2\n",
       "3    6\n",
       "4    5\n",
       "Name: count, dtype: int64"
      ]
     },
     "metadata": {},
     "output_type": "display_data"
    }
   ],
   "source": [
    "import pandas as pd\n",
    "books = pd.read_csv(RAW_DIR / \"books.csv\")\n",
    "demo  = pd.read_csv(RAW_DIR / \"demo_ecom.csv\")\n",
    "\n",
    "# Convert numeric safely\n",
    "books[\"price\"] = pd.to_numeric(books[\"price\"], errors=\"coerce\")\n",
    "books[\"rating\"] = pd.to_numeric(books[\"rating\"], errors=\"coerce\")\n",
    "demo[\"price\"]  = pd.to_numeric(demo[\"price\"], errors=\"coerce\")\n",
    "demo[\"rating\"] = pd.to_numeric(demo[\"rating\"], errors=\"coerce\")\n",
    "\n",
    "# Inventory flag (books)\n",
    "books[\"in_stock\"] = books[\"availability\"].str.contains(\"In stock\", case=False, na=False)\n",
    "\n",
    "print(\"Books — price summary:\")\n",
    "display(books[\"price\"].describe().round(2))\n",
    "\n",
    "print(\"Books — avg price by category:\")\n",
    "display(books.groupby(\"product_url\".replace(\"product_url\",\"category\") if \"category\" in books.columns else \"availability\")[\"price\"].mean().head(3))  # harmless demo\n",
    "\n",
    "print(\"Demo — price summary:\")\n",
    "display(demo[\"price\"].describe().round(2))\n",
    "\n",
    "print(\"Ratings (books then demo):\")\n",
    "display(books[\"rating\"].value_counts().sort_index())\n",
    "display(demo[\"rating\"].value_counts().sort_index())\n"
   ]
  },
  {
   "cell_type": "markdown",
   "id": "25dfc1c3-9e22-4d5d-86c4-7201b5d43d58",
   "metadata": {},
   "source": [
    "## B. Data Cleaning and Preprocessing - Pipeline"
   ]
  },
  {
   "cell_type": "markdown",
   "id": "55743c6b-57bf-4c67-bb6b-b7e99efc5fae",
   "metadata": {},
   "source": [
    "Text preprocessing (remove special characters, normalize text)"
   ]
  },
  {
   "cell_type": "code",
   "execution_count": 30,
   "id": "b368dddc-7ab7-40c7-a686-1821285fe943",
   "metadata": {},
   "outputs": [],
   "source": [
    "\n",
    "# simple_pipeline.py\n",
    "import re\n",
    "import unicodedata\n",
    "from datetime import timezone\n",
    "from typing import List, Dict, Tuple, Optional\n",
    "\n",
    "import pandas as pd\n",
    "import numpy as np\n",
    "\n",
    "# -----------------------------\n",
    "# 1) Text preprocessing helpers\n",
    "# -----------------------------\n",
    "URL_RE     = re.compile(r\"https?://\\S+|www\\.\\S+\", re.IGNORECASE)\n",
    "EMAIL_RE   = re.compile(r\"\\b[\\w\\.-]+@[\\w\\.-]+\\.\\w{2,}\\b\", re.IGNORECASE)\n",
    "HASHTAG_RE = re.compile(r\"(?<!\\w)#(\\w+)\")\n",
    "MENTION_RE = re.compile(r\"(?<!\\w)@(\\w+)\")\n",
    "NONWORD_RE = re.compile(r\"[^\\w\\s]\")             # keep letters/digits/_ + spaces\n",
    "MULTI_WS   = re.compile(r\"\\s+\")\n",
    "\n",
    "STOPWORDS = {\n",
    "    \"a\",\"an\",\"and\",\"the\",\"to\",\"is\",\"are\",\"of\",\"for\",\"in\",\"on\",\"at\",\"by\",\n",
    "    \"it\",\"from\",\"as\",\"that\",\"this\",\"with\",\"or\",\"be\",\"we\",\"you\",\"your\"\n",
    "}\n",
    "\n",
    "def _strip_accents(text: str) -> str:\n",
    "    # café -> cafe\n",
    "    nfkd = unicodedata.normalize(\"NFKD\", text)\n",
    "    return \"\".join(ch for ch in nfkd if not unicodedata.combining(ch))\n",
    "\n",
    "def _remove_emojis(text: str) -> str:\n",
    "    # remove most emoji/symbol codepoints\n",
    "    return \"\".join(ch for ch in text if unicodedata.category(ch) not in {\"So\",\"Sk\",\"Sm\"})\n",
    "\n",
    "def clean_text(text: Optional[str]) -> str:\n",
    "    \"\"\"Normalize unicode, lowercase, remove URLs/emails/emojis/punct, collapse spaces.\"\"\"\n",
    "    if not text:\n",
    "        return \"\"\n",
    "    t = unicodedata.normalize(\"NFKC\", text).lower()\n",
    "    t = URL_RE.sub(\" \", t)\n",
    "    t = EMAIL_RE.sub(\" \", t)\n",
    "    t = _remove_emojis(t)\n",
    "    t = NONWORD_RE.sub(\" \", t)\n",
    "    t = _strip_accents(t)\n",
    "    t = MULTI_WS.sub(\" \", t).strip()\n",
    "    return t\n",
    "\n",
    "def extract_hashtags_mentions(raw_text: str) -> Tuple[List[str], List[str]]:\n",
    "    return HASHTAG_RE.findall(raw_text or \"\"), MENTION_RE.findall(raw_text or \"\")\n",
    "\n",
    "def simple_keywords(tokens: List[str], top_k: int = 8) -> List[str]:\n",
    "    freq: Dict[str, int] = {}\n",
    "    for w in tokens:\n",
    "        if not w or w in STOPWORDS or w.isdigit() or len(w) <= 2:\n",
    "            continue\n",
    "        freq[w] = freq.get(w, 0) + 1\n",
    "    return [w for w, _ in sorted(freq.items(), key=lambda x: (-x[1], x[0]))[:top_k]]\n"
   ]
  },
  {
   "cell_type": "markdown",
   "id": "7e16719d-ef96-4052-a877-253eac1c7eae",
   "metadata": {},
   "source": [
    "Handle missing data and duplicates"
   ]
  },
  {
   "cell_type": "code",
   "execution_count": 31,
   "id": "69c0584e-2515-4e41-be9a-883a707eef7c",
   "metadata": {},
   "outputs": [],
   "source": [
    "# -----------------------------------\n",
    "# 2) Missing data & duplicate handling\n",
    "# -----------------------------------\n",
    "def nanify_empty_strings(df: pd.DataFrame) -> pd.DataFrame:\n",
    "    out = df.copy()\n",
    "    for c in out.select_dtypes(include=[\"object\", \"string\"]).columns:\n",
    "        out[c] = out[c].apply(lambda x: np.nan if isinstance(x, str) and x.strip() == \"\" else x)\n",
    "    return out\n",
    "\n",
    "def drop_dupes(df: pd.DataFrame, key_cols: Optional[List[str]] = None) -> pd.DataFrame:\n",
    "    out = df.drop_duplicates() if key_cols is None else df.drop_duplicates(subset=key_cols, keep=\"first\")\n",
    "    return out\n",
    "\n",
    "def impute_numeric(df: pd.DataFrame, cols: List[str]) -> pd.DataFrame:\n",
    "    out = df.copy()\n",
    "    for c in cols:\n",
    "        if c in out.columns:\n",
    "            out[c] = pd.to_numeric(out[c], errors=\"coerce\").fillna(out[c].median(skipna=True))\n",
    "    return out\n",
    "\n",
    "def impute_categorical(df: pd.DataFrame, cols: List[str], fill_value: str = \"Unknown\") -> pd.DataFrame:\n",
    "    out = df.copy()\n",
    "    for c in cols:\n",
    "        if c in out.columns:\n",
    "            mode = out[c].mode(dropna=True)\n",
    "            out[c] = out[c].fillna(mode.iloc[0] if not mode.empty else fill_value)\n",
    "    return out\n",
    "\n"
   ]
  },
  {
   "cell_type": "markdown",
   "id": "282ab596-eae9-42c7-9e57-336693a89b45",
   "metadata": {},
   "source": [
    "Extract hashtags, mentions, and keywords"
   ]
  },
  {
   "cell_type": "code",
   "execution_count": 32,
   "id": "84d6cfb6-4f7e-4fb1-a721-05ec49d08ade",
   "metadata": {},
   "outputs": [],
   "source": [
    "# ------------------------------\n",
    "# 3) Date/time standardization\n",
    "# ------------------------------\n",
    "def standardize_datetime(df: pd.DataFrame, date_col: str) -> pd.DataFrame:\n",
    "    out = df.copy()\n",
    "    if date_col in out.columns:\n",
    "        out[date_col + \"_utc\"] = (\n",
    "            pd.to_datetime(out[date_col], errors=\"coerce\", utc=True)\n",
    "            .dt.tz_convert(\"UTC\")\n",
    "        )\n",
    "    return out"
   ]
  },
  {
   "cell_type": "markdown",
   "id": "14e08b9c-85d7-416a-8384-00ba3ee156bd",
   "metadata": {},
   "source": [
    "Date/time standardization across different sources"
   ]
  },
  {
   "cell_type": "code",
   "execution_count": 33,
   "id": "be198555-63be-49c4-b558-9beac0bc208e",
   "metadata": {},
   "outputs": [],
   "source": [
    "# ------------------------------\n",
    "# 4) Validation & quick QA checks\n",
    "# ------------------------------\n",
    "def validate(df: pd.DataFrame, rules: Dict[str, Dict], dt_col_utc: Optional[str] = None) -> Dict:\n",
    "    \"\"\"\n",
    "    rules example:\n",
    "      {\n",
    "        \"id\": {\"required\": True, \"unique\": True},\n",
    "        \"price\": {\"ge\": 0},\n",
    "        \"rating\": {\"between\": (0, 5)}\n",
    "      }\n",
    "    \"\"\"\n",
    "    rep: Dict[str, Dict] = {}\n",
    "    for col, spec in rules.items():\n",
    "        colrep = {\"present\": col in df.columns}\n",
    "        if not colrep[\"present\"]:\n",
    "            rep[col] = colrep\n",
    "            continue\n",
    "        s = df[col]\n",
    "        if spec.get(\"required\"):\n",
    "            colrep[\"missing\"] = int(s.isna().sum())\n",
    "        if spec.get(\"unique\"):\n",
    "            colrep[\"duplicates\"] = int(s.duplicated().sum())\n",
    "        if \"ge\" in spec:\n",
    "            colrep[\"ge_viol\"] = int((pd.to_numeric(s, errors=\"coerce\").dropna() < spec[\"ge\"]).sum())\n",
    "        if \"le\" in spec:\n",
    "            colrep[\"le_viol\"] = int((pd.to_numeric(s, errors=\"coerce\").dropna() > spec[\"le\"]).sum())\n",
    "        if \"between\" in spec:\n",
    "            lo, hi = spec[\"between\"]\n",
    "            num = pd.to_numeric(s, errors=\"coerce\").dropna()\n",
    "            colrep[\"between_viol\"] = int(((num < lo) | (num > hi)).sum())\n",
    "        rep[col] = colrep\n",
    "\n",
    "    if dt_col_utc and dt_col_utc in df.columns:\n",
    "        now = pd.Timestamp.utcnow().tz_localize(\"UTC\")\n",
    "        rep[dt_col_utc] = {\"future_timestamps\": int((df[dt_col_utc].dropna() > now).sum())}\n",
    "    return rep"
   ]
  },
  {
   "cell_type": "markdown",
   "id": "368dc6c0-26cb-47af-8d95-536a36b90da7",
   "metadata": {},
   "source": [
    "Data Processing Pipeline"
   ]
  },
  {
   "cell_type": "code",
   "execution_count": 34,
   "id": "ff55eb4a-f103-4d84-838f-b145d7783768",
   "metadata": {},
   "outputs": [],
   "source": [
    "# ------------------------------\n",
    "# 5) Pipeline (compose the steps)\n",
    "# ------------------------------\n",
    "def run_pipeline(\n",
    "    df: pd.DataFrame,\n",
    "    *,\n",
    "    text_col: Optional[str] = \"text\",\n",
    "    date_col: Optional[str] = \"date\",\n",
    "    key_cols_for_dupes: Optional[List[str]] = None,\n",
    "    numeric_impute_cols: Optional[List[str]] = None,\n",
    "    categorical_impute_cols: Optional[List[str]] = None,\n",
    ") -> Tuple[pd.DataFrame, Dict]:\n",
    "    \"\"\"\n",
    "    Returns (cleaned_df, report)\n",
    "    \"\"\"\n",
    "    rep: Dict = {}\n",
    "\n",
    "    # Missing normalization\n",
    "    df = nanify_empty_strings(df)\n",
    "\n",
    "    # Duplicates\n",
    "    before = len(df)\n",
    "    df = drop_dupes(df, key_cols_for_dupes)\n",
    "    rep[\"duplicates_dropped\"] = before - len(df)\n",
    "\n",
    "    # Text preprocess + features\n",
    "    if text_col and text_col in df.columns:\n",
    "        raw = df[text_col].fillna(\"\")\n",
    "        df[\"hashtags\"] = raw.apply(lambda x: extract_hashtags_mentions(x)[0])\n",
    "        df[\"mentions\"] = raw.apply(lambda x: extract_hashtags_mentions(x)[1])\n",
    "        df[\"text_clean\"] = raw.apply(clean_text)\n",
    "        df[\"tokens\"] = df[\"text_clean\"].str.split()\n",
    "        df[\"keywords\"] = df[\"tokens\"].apply(simple_keywords)\n",
    "\n",
    "    # Date standardization\n",
    "    if date_col and date_col in df.columns:\n",
    "        df = standardize_datetime(df, date_col)\n",
    "\n",
    "    # Impute\n",
    "    if numeric_impute_cols:\n",
    "        df = impute_numeric(df, numeric_impute_cols)\n",
    "    if categorical_impute_cols:\n",
    "        df = impute_categorical(df, categorical_impute_cols)\n",
    "\n",
    "    # Basic validation (edit to match your schema)\n",
    "    rules = {}\n",
    "    if \"rating\" in df.columns:\n",
    "        rules[\"rating\"] = {\"between\": (0, 5)}\n",
    "    if \"price\" in df.columns:\n",
    "        rules[\"price\"] = {\"ge\": 0}\n",
    "\n",
    "    dt_col_utc = f\"{date_col}_utc\" if date_col and f\"{date_col}_utc\" in df.columns else None\n",
    "    rep[\"validation\"] = validate(df, rules, dt_col_utc)\n",
    "\n",
    "    # Quick stats you can paste in a report\n",
    "    rep[\"missing_after_%\"] = (df.isna().mean().round(4) * 100).to_dict()\n",
    "    rep[\"shape\"] = df.shape\n",
    "    return df, rep"
   ]
  },
  {
   "cell_type": "markdown",
   "id": "dd2467b2-7cf2-4fd0-9f11-692b0e23e67b",
   "metadata": {},
   "source": [
    "C. Advanced Statistical Analysis"
   ]
  },
  {
   "cell_type": "code",
   "execution_count": 40,
   "id": "13386c3c-74a2-4895-896e-4fc3e03adec7",
   "metadata": {},
   "outputs": [
    {
     "data": {
      "text/html": [
       "<div>\n",
       "<style scoped>\n",
       "    .dataframe tbody tr th:only-of-type {\n",
       "        vertical-align: middle;\n",
       "    }\n",
       "\n",
       "    .dataframe tbody tr th {\n",
       "        vertical-align: top;\n",
       "    }\n",
       "\n",
       "    .dataframe thead th {\n",
       "        text-align: right;\n",
       "    }\n",
       "</style>\n",
       "<table border=\"1\" class=\"dataframe\">\n",
       "  <thead>\n",
       "    <tr style=\"text-align: right;\">\n",
       "      <th></th>\n",
       "      <th>title</th>\n",
       "      <th>price</th>\n",
       "      <th>rating</th>\n",
       "      <th>availability</th>\n",
       "      <th>product_url</th>\n",
       "    </tr>\n",
       "  </thead>\n",
       "  <tbody>\n",
       "    <tr>\n",
       "      <th>0</th>\n",
       "      <td>A Light in the Attic</td>\n",
       "      <td>51.77</td>\n",
       "      <td>3</td>\n",
       "      <td>In stock</td>\n",
       "      <td>http://books.toscrape.com/catalogue/a-light-in...</td>\n",
       "    </tr>\n",
       "    <tr>\n",
       "      <th>1</th>\n",
       "      <td>Tipping the Velvet</td>\n",
       "      <td>53.74</td>\n",
       "      <td>1</td>\n",
       "      <td>In stock</td>\n",
       "      <td>http://books.toscrape.com/catalogue/tipping-th...</td>\n",
       "    </tr>\n",
       "    <tr>\n",
       "      <th>2</th>\n",
       "      <td>Soumission</td>\n",
       "      <td>50.10</td>\n",
       "      <td>1</td>\n",
       "      <td>In stock</td>\n",
       "      <td>http://books.toscrape.com/catalogue/soumission...</td>\n",
       "    </tr>\n",
       "    <tr>\n",
       "      <th>3</th>\n",
       "      <td>Sharp Objects</td>\n",
       "      <td>47.82</td>\n",
       "      <td>4</td>\n",
       "      <td>In stock</td>\n",
       "      <td>http://books.toscrape.com/catalogue/sharp-obje...</td>\n",
       "    </tr>\n",
       "    <tr>\n",
       "      <th>4</th>\n",
       "      <td>Sapiens: A Brief History of Humankind</td>\n",
       "      <td>54.23</td>\n",
       "      <td>5</td>\n",
       "      <td>In stock</td>\n",
       "      <td>http://books.toscrape.com/catalogue/sapiens-a-...</td>\n",
       "    </tr>\n",
       "  </tbody>\n",
       "</table>\n",
       "</div>"
      ],
      "text/plain": [
       "                                   title  price  rating availability  \\\n",
       "0                   A Light in the Attic  51.77       3     In stock   \n",
       "1                     Tipping the Velvet  53.74       1     In stock   \n",
       "2                             Soumission  50.10       1     In stock   \n",
       "3                          Sharp Objects  47.82       4     In stock   \n",
       "4  Sapiens: A Brief History of Humankind  54.23       5     In stock   \n",
       "\n",
       "                                         product_url  \n",
       "0  http://books.toscrape.com/catalogue/a-light-in...  \n",
       "1  http://books.toscrape.com/catalogue/tipping-th...  \n",
       "2  http://books.toscrape.com/catalogue/soumission...  \n",
       "3  http://books.toscrape.com/catalogue/sharp-obje...  \n",
       "4  http://books.toscrape.com/catalogue/sapiens-a-...  "
      ]
     },
     "execution_count": 40,
     "metadata": {},
     "output_type": "execute_result"
    }
   ],
   "source": [
    "import pandas as pd\n",
    "import numpy as np\n",
    "from scipy import stats\n",
    "import seaborn as sns\n",
    "import matplotlib.pyplot as plt\n",
    "\n",
    "# Load your combined CSV (example: books data)\n",
    "df = pd.read_csv(r\"C:\\Users\\NSBMIT\\Documents\\MSc\\Data Analysis E Commerce Data Analysis\\data collection\\books.csv\")\n",
    "\n",
    "# Inspect the first rows\n",
    "df.head()\n"
   ]
  },
  {
   "cell_type": "code",
   "execution_count": 41,
   "id": "f4843a0b-3c20-486c-bc95-ff732a8351a7",
   "metadata": {
    "scrolled": true
   },
   "outputs": [
    {
     "name": "stdout",
     "output_type": "stream",
     "text": [
      "count    1011.000000\n",
      "mean       35.121751\n",
      "std        14.413324\n",
      "min        10.000000\n",
      "25%        22.130000\n",
      "50%        36.170000\n",
      "75%        47.475000\n",
      "max        59.990000\n",
      "Name: price, dtype: float64\n",
      "Median: 36.17\n",
      "Mode: 16.28\n"
     ]
    }
   ],
   "source": [
    "desc_stats = df['price'].describe()   # count, mean, std, min, quartiles, max\n",
    "median_price = df['price'].median()\n",
    "mode_price = df['price'].mode()[0]\n",
    "\n",
    "print(desc_stats)\n",
    "print(\"Median:\", median_price)\n",
    "print(\"Mode:\", mode_price)\n"
   ]
  },
  {
   "cell_type": "code",
   "execution_count": 44,
   "id": "aa021fce-64be-4671-a0e7-dd7e819eb4ca",
   "metadata": {},
   "outputs": [
    {
     "name": "stdout",
     "output_type": "stream",
     "text": [
      "Index(['title', 'price', 'rating', 'availability', 'product_url'], dtype='object')\n"
     ]
    }
   ],
   "source": [
    "print(df.columns)"
   ]
  },
  {
   "cell_type": "code",
   "execution_count": 45,
   "id": "daca20c0-49d5-43f6-bde4-c6de28b2c36f",
   "metadata": {},
   "outputs": [
    {
     "name": "stderr",
     "output_type": "stream",
     "text": [
      "INFO: Using categorical units to plot a list of strings that are all parsable as floats or dates. If these strings should be plotted as numbers, cast to the appropriate data type before plotting.\n",
      "INFO: Using categorical units to plot a list of strings that are all parsable as floats or dates. If these strings should be plotted as numbers, cast to the appropriate data type before plotting.\n"
     ]
    },
    {
     "data": {
      "image/png": "[encoded data removed]",
      "text/plain": [
       "<Figure size 1000x600 with 1 Axes>"
      ]
     },
     "metadata": {},
     "output_type": "display_data"
    }
   ],
   "source": [
    "plt.figure(figsize=(10,6))\n",
    "sns.boxplot(x='rating', y='price', data=df)\n",
    "plt.xticks(rotation=90)\n",
    "plt.title(\"Price Distribution by Rating\")\n",
    "plt.tight_layout()\n",
    "plt.show()\n"
   ]
  },
  {
   "cell_type": "code",
   "execution_count": 46,
   "id": "a83abe65-9d6c-4be3-9dcf-7cf9d225b528",
   "metadata": {},
   "outputs": [
    {
     "name": "stdout",
     "output_type": "stream",
     "text": [
      "Outliers count: 0\n"
     ]
    }
   ],
   "source": [
    "Q1 = df['price'].quantile(0.25)\n",
    "Q3 = df['price'].quantile(0.75)\n",
    "IQR = Q3 - Q1\n",
    "outliers = df[(df['price'] < Q1 - 1.5*IQR) | (df['price'] > Q3 + 1.5*IQR)]\n",
    "print(\"Outliers count:\", len(outliers))\n"
   ]
  },
  {
   "cell_type": "code",
   "execution_count": 47,
   "id": "90f4f8b9-006d-4c09-a5d8-d4cdbe8b804e",
   "metadata": {},
   "outputs": [
    {
     "name": "stdout",
     "output_type": "stream",
     "text": [
      "                     price    rating  availability_num\n",
      "price             1.000000  0.029587               NaN\n",
      "rating            0.029587  1.000000               NaN\n",
      "availability_num       NaN       NaN               NaN\n"
     ]
    },
    {
     "data": {
      "image/png": "[encoded data removed]",
      "text/plain": [
       "<Figure size 640x480 with 2 Axes>"
      ]
     },
     "metadata": {},
     "output_type": "display_data"
    }
   ],
   "source": [
    "# example: availability string like 'In stock (22 available)'\n",
    "df['availability_num'] = df['availability'].str.extract(r'(\\d+)').astype(float)\n",
    "\n",
    "# correlation matrix\n",
    "corr = df[['price','rating','availability_num']].corr()\n",
    "print(corr)\n",
    "\n",
    "sns.heatmap(corr, annot=True, cmap='coolwarm')\n",
    "plt.title(\"Correlation between Price, Rating, Availability\")\n",
    "plt.show()\n"
   ]
  },
  {
   "cell_type": "code",
   "execution_count": 50,
   "id": "1d80aa38-62cc-4b2c-a8c0-288d74924e92",
   "metadata": {},
   "outputs": [
    {
     "name": "stdout",
     "output_type": "stream",
     "text": [
      "rating\n",
      "1    228\n",
      "3    206\n",
      "2    199\n",
      "5    197\n",
      "4    181\n",
      "Name: count, dtype: int64\n"
     ]
    },
    {
     "data": {
      "image/png": "[encoded data removed]",
      "text/plain": [
       "<Figure size 1000x500 with 1 Axes>"
      ]
     },
     "metadata": {},
     "output_type": "display_data"
    }
   ],
   "source": [
    "cat_freq = df['rating'].value_counts()\n",
    "print(cat_freq)\n",
    "\n",
    "cat_freq.plot(kind='bar', figsize=(10,5))\n",
    "plt.title(\"Rating Popularity\")\n",
    "plt.ylabel(\"Frequency\")\n",
    "plt.show()\n"
   ]
  },
  {
   "cell_type": "code",
   "execution_count": 55,
   "id": "ce974291-408a-4ba9-8b28-326e1a931f73",
   "metadata": {},
   "outputs": [
    {
     "ename": "AttributeError",
     "evalue": "Can only use .str accessor with string values!",
     "output_type": "error",
     "traceback": [
      "\u001b[1;31m---------------------------------------------------------------------------\u001b[0m",
      "\u001b[1;31mAttributeError\u001b[0m                            Traceback (most recent call last)",
      "Cell \u001b[1;32mIn[55], line 1\u001b[0m\n\u001b[1;32m----> 1\u001b[0m fiction \u001b[38;5;241m=\u001b[39m df[df[\u001b[38;5;124m'\u001b[39m\u001b[38;5;124mrating\u001b[39m\u001b[38;5;124m'\u001b[39m]\u001b[38;5;241m.\u001b[39mstr\u001b[38;5;241m.\u001b[39mcontains(\u001b[38;5;124m\"\u001b[39m\u001b[38;5;124mFiction\u001b[39m\u001b[38;5;124m\"\u001b[39m, case\u001b[38;5;241m=\u001b[39m\u001b[38;5;28;01mFalse\u001b[39;00m)][\u001b[38;5;124m'\u001b[39m\u001b[38;5;124mprice\u001b[39m\u001b[38;5;124m'\u001b[39m]\n\u001b[0;32m      2\u001b[0m non_fiction \u001b[38;5;241m=\u001b[39m df[\u001b[38;5;241m~\u001b[39mdf[\u001b[38;5;124m'\u001b[39m\u001b[38;5;124mrating\u001b[39m\u001b[38;5;124m'\u001b[39m]\u001b[38;5;241m.\u001b[39mstr\u001b[38;5;241m.\u001b[39mcontains(\u001b[38;5;124m\"\u001b[39m\u001b[38;5;124mFiction\u001b[39m\u001b[38;5;124m\"\u001b[39m, case\u001b[38;5;241m=\u001b[39m\u001b[38;5;28;01mFalse\u001b[39;00m)][\u001b[38;5;124m'\u001b[39m\u001b[38;5;124mprice\u001b[39m\u001b[38;5;124m'\u001b[39m]\n\u001b[0;32m      4\u001b[0m t_stat, p_value \u001b[38;5;241m=\u001b[39m stats\u001b[38;5;241m.\u001b[39mttest_ind(fiction, non_fiction, equal_var\u001b[38;5;241m=\u001b[39m\u001b[38;5;28;01mFalse\u001b[39;00m)\n",
      "File \u001b[1;32m~\\anaconda3\\Lib\\site-packages\\pandas\\core\\generic.py:6299\u001b[0m, in \u001b[0;36mNDFrame.__getattr__\u001b[1;34m(self, name)\u001b[0m\n\u001b[0;32m   6292\u001b[0m \u001b[38;5;28;01mif\u001b[39;00m (\n\u001b[0;32m   6293\u001b[0m     name \u001b[38;5;129;01mnot\u001b[39;00m \u001b[38;5;129;01min\u001b[39;00m \u001b[38;5;28mself\u001b[39m\u001b[38;5;241m.\u001b[39m_internal_names_set\n\u001b[0;32m   6294\u001b[0m     \u001b[38;5;129;01mand\u001b[39;00m name \u001b[38;5;129;01mnot\u001b[39;00m \u001b[38;5;129;01min\u001b[39;00m \u001b[38;5;28mself\u001b[39m\u001b[38;5;241m.\u001b[39m_metadata\n\u001b[0;32m   6295\u001b[0m     \u001b[38;5;129;01mand\u001b[39;00m name \u001b[38;5;129;01mnot\u001b[39;00m \u001b[38;5;129;01min\u001b[39;00m \u001b[38;5;28mself\u001b[39m\u001b[38;5;241m.\u001b[39m_accessors\n\u001b[0;32m   6296\u001b[0m     \u001b[38;5;129;01mand\u001b[39;00m \u001b[38;5;28mself\u001b[39m\u001b[38;5;241m.\u001b[39m_info_axis\u001b[38;5;241m.\u001b[39m_can_hold_identifiers_and_holds_name(name)\n\u001b[0;32m   6297\u001b[0m ):\n\u001b[0;32m   6298\u001b[0m     \u001b[38;5;28;01mreturn\u001b[39;00m \u001b[38;5;28mself\u001b[39m[name]\n\u001b[1;32m-> 6299\u001b[0m \u001b[38;5;28;01mreturn\u001b[39;00m \u001b[38;5;28mobject\u001b[39m\u001b[38;5;241m.\u001b[39m\u001b[38;5;21m__getattribute__\u001b[39m(\u001b[38;5;28mself\u001b[39m, name)\n",
      "File \u001b[1;32m~\\anaconda3\\Lib\\site-packages\\pandas\\core\\accessor.py:224\u001b[0m, in \u001b[0;36mCachedAccessor.__get__\u001b[1;34m(self, obj, cls)\u001b[0m\n\u001b[0;32m    221\u001b[0m \u001b[38;5;28;01mif\u001b[39;00m obj \u001b[38;5;129;01mis\u001b[39;00m \u001b[38;5;28;01mNone\u001b[39;00m:\n\u001b[0;32m    222\u001b[0m     \u001b[38;5;66;03m# we're accessing the attribute of the class, i.e., Dataset.geo\u001b[39;00m\n\u001b[0;32m    223\u001b[0m     \u001b[38;5;28;01mreturn\u001b[39;00m \u001b[38;5;28mself\u001b[39m\u001b[38;5;241m.\u001b[39m_accessor\n\u001b[1;32m--> 224\u001b[0m accessor_obj \u001b[38;5;241m=\u001b[39m \u001b[38;5;28mself\u001b[39m\u001b[38;5;241m.\u001b[39m_accessor(obj)\n\u001b[0;32m    225\u001b[0m \u001b[38;5;66;03m# Replace the property with the accessor object. Inspired by:\u001b[39;00m\n\u001b[0;32m    226\u001b[0m \u001b[38;5;66;03m# https://www.pydanny.com/cached-property.html\u001b[39;00m\n\u001b[0;32m    227\u001b[0m \u001b[38;5;66;03m# We need to use object.__setattr__ because we overwrite __setattr__ on\u001b[39;00m\n\u001b[0;32m    228\u001b[0m \u001b[38;5;66;03m# NDFrame\u001b[39;00m\n\u001b[0;32m    229\u001b[0m \u001b[38;5;28mobject\u001b[39m\u001b[38;5;241m.\u001b[39m\u001b[38;5;21m__setattr__\u001b[39m(obj, \u001b[38;5;28mself\u001b[39m\u001b[38;5;241m.\u001b[39m_name, accessor_obj)\n",
      "File \u001b[1;32m~\\anaconda3\\Lib\\site-packages\\pandas\\core\\strings\\accessor.py:191\u001b[0m, in \u001b[0;36mStringMethods.__init__\u001b[1;34m(self, data)\u001b[0m\n\u001b[0;32m    188\u001b[0m \u001b[38;5;28;01mdef\u001b[39;00m\u001b[38;5;250m \u001b[39m\u001b[38;5;21m__init__\u001b[39m(\u001b[38;5;28mself\u001b[39m, data) \u001b[38;5;241m-\u001b[39m\u001b[38;5;241m>\u001b[39m \u001b[38;5;28;01mNone\u001b[39;00m:\n\u001b[0;32m    189\u001b[0m     \u001b[38;5;28;01mfrom\u001b[39;00m\u001b[38;5;250m \u001b[39m\u001b[38;5;21;01mpandas\u001b[39;00m\u001b[38;5;21;01m.\u001b[39;00m\u001b[38;5;21;01mcore\u001b[39;00m\u001b[38;5;21;01m.\u001b[39;00m\u001b[38;5;21;01marrays\u001b[39;00m\u001b[38;5;21;01m.\u001b[39;00m\u001b[38;5;21;01mstring_\u001b[39;00m\u001b[38;5;250m \u001b[39m\u001b[38;5;28;01mimport\u001b[39;00m StringDtype\n\u001b[1;32m--> 191\u001b[0m     \u001b[38;5;28mself\u001b[39m\u001b[38;5;241m.\u001b[39m_inferred_dtype \u001b[38;5;241m=\u001b[39m \u001b[38;5;28mself\u001b[39m\u001b[38;5;241m.\u001b[39m_validate(data)\n\u001b[0;32m    192\u001b[0m     \u001b[38;5;28mself\u001b[39m\u001b[38;5;241m.\u001b[39m_is_categorical \u001b[38;5;241m=\u001b[39m \u001b[38;5;28misinstance\u001b[39m(data\u001b[38;5;241m.\u001b[39mdtype, CategoricalDtype)\n\u001b[0;32m    193\u001b[0m     \u001b[38;5;28mself\u001b[39m\u001b[38;5;241m.\u001b[39m_is_string \u001b[38;5;241m=\u001b[39m \u001b[38;5;28misinstance\u001b[39m(data\u001b[38;5;241m.\u001b[39mdtype, StringDtype)\n",
      "File \u001b[1;32m~\\anaconda3\\Lib\\site-packages\\pandas\\core\\strings\\accessor.py:245\u001b[0m, in \u001b[0;36mStringMethods._validate\u001b[1;34m(data)\u001b[0m\n\u001b[0;32m    242\u001b[0m inferred_dtype \u001b[38;5;241m=\u001b[39m lib\u001b[38;5;241m.\u001b[39minfer_dtype(values, skipna\u001b[38;5;241m=\u001b[39m\u001b[38;5;28;01mTrue\u001b[39;00m)\n\u001b[0;32m    244\u001b[0m \u001b[38;5;28;01mif\u001b[39;00m inferred_dtype \u001b[38;5;129;01mnot\u001b[39;00m \u001b[38;5;129;01min\u001b[39;00m allowed_types:\n\u001b[1;32m--> 245\u001b[0m     \u001b[38;5;28;01mraise\u001b[39;00m \u001b[38;5;167;01mAttributeError\u001b[39;00m(\u001b[38;5;124m\"\u001b[39m\u001b[38;5;124mCan only use .str accessor with string values!\u001b[39m\u001b[38;5;124m\"\u001b[39m)\n\u001b[0;32m    246\u001b[0m \u001b[38;5;28;01mreturn\u001b[39;00m inferred_dtype\n",
      "\u001b[1;31mAttributeError\u001b[0m: Can only use .str accessor with string values!"
     ]
    }
   ],
   "source": [
    "fiction = df[df['rating'].str.contains(\"Fiction\", case=False)]['price']\n",
    "non_fiction = df[~df['rating'].str.contains(\"Fiction\", case=False)]['price']\n",
    "\n",
    "t_stat, p_value = stats.ttest_ind(fiction, non_fiction, equal_var=False)\n",
    "print(\"T-test statistic:\", t_stat)\n",
    "print(\"p-value:\", p_value)\n",
    "\n",
    "if p_value < 0.05:\n",
    "    print(\"Significant difference in mean prices (reject H0).\")\n",
    "else:\n",
    "    print(\"No significant difference (fail to reject H0).\")\n"
   ]
  },
  {
   "cell_type": "markdown",
   "id": "2ef8a0b3-4eab-4274-8c58-518e915684d5",
   "metadata": {},
   "source": [
    "D. Visualizations"
   ]
  },
  {
   "cell_type": "code",
   "execution_count": 59,
   "id": "2a9ddba4-105e-4563-b44d-52a5dfe39824",
   "metadata": {
    "scrolled": true
   },
   "outputs": [
    {
     "name": "stdout",
     "output_type": "stream",
     "text": [
      "Detected columns: ['title', 'price', 'rating', 'availability', 'product_url']\n",
      "                                   title  price  rating availability  \\\n",
      "0                   A Light in the Attic  51.77       3     In stock   \n",
      "1                     Tipping the Velvet  53.74       1     In stock   \n",
      "2                             Soumission  50.10       1     In stock   \n",
      "3                          Sharp Objects  47.82       4     In stock   \n",
      "4  Sapiens: A Brief History of Humankind  54.23       5     In stock   \n",
      "\n",
      "                                         product_url  \n",
      "0  http://books.toscrape.com/catalogue/a-light-in...  \n",
      "1  http://books.toscrape.com/catalogue/tipping-th...  \n",
      "2  http://books.toscrape.com/catalogue/soumission...  \n",
      "3  http://books.toscrape.com/catalogue/sharp-obje...  \n",
      "4  http://books.toscrape.com/catalogue/sapiens-a-...  \n",
      "\n",
      " All visualizations created in: C:\\Users\\NSBMIT\\Documents\\MSc\\Data Analysis E Commerce Data Analysis\\books_viz_outputs\n"
     ]
    }
   ],
   "source": [
    "import os, re\n",
    "import numpy as np\n",
    "import pandas as pd\n",
    "import matplotlib.pyplot as plt\n",
    "import seaborn as sns\n",
    "import plotly.express as px\n",
    "from plotly.io import write_html\n",
    "\n",
    "# ------------------ Config ------------------\n",
    "INPUT_CSV  = r\"C:\\Users\\NSBMIT\\Documents\\MSc\\Data Analysis E Commerce Data Analysis\\data collection\\books.csv\"\n",
    "OUTPUT_DIR = \"./books_viz_outputs\"\n",
    "TOP_N      = 15   # limit categories for clearer plots\n",
    "sns.set_theme(style=\"whitegrid\")\n",
    "\n",
    "# ------------------ Setup -------------------\n",
    "os.makedirs(OUTPUT_DIR, exist_ok=True)\n",
    "\n",
    "# Load the Books dataset\n",
    "df = pd.read_csv(INPUT_CSV)\n",
    "print(\"Detected columns:\", list(df.columns))\n",
    "print(df.head())\n",
    "\n",
    "# Ensure key numeric columns exist\n",
    "def coerce_price(x):\n",
    "    if pd.isna(x): return np.nan\n",
    "    s = re.sub(r\"[^\\d.,-]\", \"\", str(x))\n",
    "    if \",\" in s and \".\" in s: s = s.replace(\",\", \"\")\n",
    "    else: s = s.replace(\",\", \".\")\n",
    "    try: return float(s)\n",
    "    except: return np.nan\n",
    "\n",
    "def coerce_rating(x):\n",
    "    if pd.isna(x): return np.nan\n",
    "    s = str(x).lower()\n",
    "    words = {\"one\":1,\"two\":2,\"three\":3,\"four\":4,\"five\":5}\n",
    "    if s in words: return words[s]\n",
    "    m = re.search(r\"(\\d+(\\.\\d+)?)\", s)\n",
    "    return float(m.group(1)) if m else np.nan\n",
    "\n",
    "def extract_avail(x):\n",
    "    if pd.isna(x): return np.nan\n",
    "    m = re.search(r\"(\\d+)\", str(x))\n",
    "    return float(m.group(1)) if m else np.nan\n",
    "\n",
    "if \"price_num\" not in df.columns:\n",
    "    df[\"price_num\"] = df[\"price\"].apply(coerce_price)\n",
    "if \"rating_num\" not in df.columns:\n",
    "    df[\"rating_num\"] = df[\"rating\"].apply(coerce_rating)\n",
    "if \"availability_num\" not in df.columns:\n",
    "    df[\"availability_num\"] = df[\"availability\"].apply(extract_avail)\n",
    "\n",
    "# Detect optional columns\n",
    "category_col = \"category\" if \"category\" in df.columns else None\n",
    "source_col   = \"source\"   if \"source\"   in df.columns else None\n",
    "\n",
    "# ------------------ Static Visuals ------------------\n",
    "\n",
    "# Price distribution histograms and box plots by category\n",
    "plt.figure(figsize=(10,6))\n",
    "df[\"price_num\"].dropna().plot(kind=\"hist\", bins=30, alpha=0.8)\n",
    "plt.xlabel(\"Price (£)\"); plt.ylabel(\"Frequency\")\n",
    "plt.title(\"Books – Overall Price Distribution\")\n",
    "plt.tight_layout()\n",
    "plt.savefig(f\"{OUTPUT_DIR}/price_hist_overall.png\", dpi=150)\n",
    "plt.close()\n",
    "\n",
    "if category_col:\n",
    "    top_cats = df[category_col].value_counts().head(TOP_N).index\n",
    "    plt.figure(figsize=(12,6))\n",
    "    sns.boxplot(data=df[df[category_col].isin(top_cats)],\n",
    "                x=category_col, y=\"price_num\")\n",
    "    plt.xticks(rotation=90)\n",
    "    plt.title(\"Books – Price Distribution by Category (Top N)\")\n",
    "    plt.tight_layout()\n",
    "    plt.savefig(f\"{OUTPUT_DIR}/price_box_by_category.png\", dpi=150)\n",
    "    plt.close()\n",
    "\n",
    "# Rating vs price scatter with trend line\n",
    "if df[\"rating_num\"].notna().sum() > 2:\n",
    "    plt.figure(figsize=(10,6))\n",
    "    sns.regplot(x=\"price_num\", y=\"rating_num\", data=df,\n",
    "                scatter_kws={\"alpha\":0.5})\n",
    "    plt.title(\"Books – Rating vs Price (with trend line)\")\n",
    "    plt.tight_layout()\n",
    "    plt.savefig(f\"{OUTPUT_DIR}/scatter_rating_vs_price.png\", dpi=150)\n",
    "    plt.close()\n",
    "\n",
    "# Category popularity & average ratings\n",
    "if category_col:\n",
    "    cat_counts = df[category_col].value_counts().head(TOP_N)\n",
    "    plt.figure(figsize=(12,6))\n",
    "    cat_counts.plot(kind=\"bar\")\n",
    "    plt.title(\"Books – Category Popularity (Top N)\")\n",
    "    plt.ylabel(\"Book Count\")\n",
    "    plt.tight_layout()\n",
    "    plt.savefig(f\"{OUTPUT_DIR}/category_popularity.png\", dpi=150)\n",
    "    plt.close()\n",
    "\n",
    "    if df[\"rating_num\"].notna().sum() > 0:\n",
    "        avg_rating = (df.groupby(category_col)[\"rating_num\"]\n",
    "                      .mean().sort_values(ascending=False).head(TOP_N))\n",
    "        plt.figure(figsize=(12,6))\n",
    "        avg_rating.plot(kind=\"bar\", color=\"teal\")\n",
    "        plt.title(\"Books – Average Rating by Category (Top N)\")\n",
    "        plt.ylabel(\"Average Rating\")\n",
    "        plt.tight_layout()\n",
    "        plt.savefig(f\"{OUTPUT_DIR}/avg_rating_by_category.png\", dpi=150)\n",
    "        plt.close()\n",
    "\n",
    "# Comparative analysis by data source\n",
    "if source_col:\n",
    "    plt.figure(figsize=(10,6))\n",
    "    sns.boxplot(data=df, x=source_col, y=\"price_num\")\n",
    "    plt.title(\"Books – Price Distribution by Source\")\n",
    "    plt.xticks(rotation=30)\n",
    "    plt.tight_layout()\n",
    "    plt.savefig(f\"{OUTPUT_DIR}/price_by_source.png\", dpi=150)\n",
    "    plt.close()\n",
    "\n",
    "# ------------------ Interactive Plotly Report ------------------\n",
    "\n",
    "figs = []\n",
    "\n",
    "# Interactive price histogram\n",
    "figs.append(px.histogram(df, x=\"price_num\", nbins=30,\n",
    "            title=\"Interactive Price Distribution\", color=category_col))\n",
    "\n",
    "# Interactive rating vs price scatter\n",
    "if df[\"rating_num\"].notna().sum() > 2:\n",
    "    figs.append(px.scatter(df, x=\"price_num\", y=\"rating_num\",\n",
    "            color=category_col, title=\"Interactive Rating vs Price\"))\n",
    "\n",
    "# Interactive category popularity\n",
    "if category_col:\n",
    "    cat_df = df[category_col].value_counts().head(TOP_N).reset_index()\n",
    "    cat_df.columns=[category_col,\"count\"]\n",
    "    figs.append(px.bar(cat_df, x=category_col, y=\"count\",\n",
    "            title=\"Interactive Category Popularity (Top N)\"))\n",
    "\n",
    "# Combine all interactive figures into one HTML\n",
    "html_parts = [f\"<h2>{f.layout.title.text}</h2>\" + f.to_html(full_html=False, include_plotlyjs=False)\n",
    "              for f in figs]\n",
    "html_report = f\"\"\"\n",
    "<html>\n",
    "<head><meta charset=\"utf-8\">\n",
    "<script src=\"https://cdn.plot.ly/plotly-latest.min.js\"></script>\n",
    "<title>Books Visual Analysis Report</title></head>\n",
    "<body>\n",
    "<h1>Books to Scrape – Interactive Visual Analysis</h1>\n",
    "{''.join(html_parts)}\n",
    "</body>\n",
    "</html>\n",
    "\"\"\"\n",
    "with open(f\"{OUTPUT_DIR}/interactive_books_report.html\",\"w\",encoding=\"utf-8\") as f:\n",
    "    f.write(html_report)\n",
    "\n",
    "print(f\"\\n All visualizations created in: {os.path.abspath(OUTPUT_DIR)}\")\n"
   ]
  },
  {
   "cell_type": "markdown",
   "id": "0ea29f74-fea7-4b6b-8a9b-78d11e287f85",
   "metadata": {},
   "source": [
    "E. Predictive Analysis"
   ]
  },
  {
   "cell_type": "code",
   "execution_count": 62,
   "id": "b1392e26-9d82-47f7-a1ba-c5d71e3cd863",
   "metadata": {},
   "outputs": [
    {
     "name": "stdout",
     "output_type": "stream",
     "text": [
      "Columns detected: ['title', 'price', 'rating', 'availability', 'product_url']\n",
      "Linear Regression: price ≈ 34.25 + 0.30*rating\n",
      "R² = 0.001\n",
      "\n",
      "Sample recommendations for: Wall and Piece\n",
      "                                                 title  price  rating\n",
      "48   Unseen City: The Majesty of Pigeons, the Discr...  44.18       4\n",
      "735                       The Nanny Diaries (Nanny #1)  52.53       5\n",
      "744                               The Husband's Secret  52.51       5\n",
      "148    The Murder of Roger Ackroyd (Hercule Poirot #4)  44.10       4\n",
      "543               A Short History of Nearly Everything  52.40       5\n",
      "\n",
      " Predictive analysis complete. See outputs in C:\\Users\\NSBMIT\\Documents\\MSc\\Data Analysis E Commerce Data Analysis\\predictive_outputs\n"
     ]
    }
   ],
   "source": [
    "import os\n",
    "import re\n",
    "import numpy as np\n",
    "import pandas as pd\n",
    "import matplotlib.pyplot as plt\n",
    "import seaborn as sns\n",
    "\n",
    "from sklearn.linear_model import LinearRegression\n",
    "from sklearn.metrics import r2_score\n",
    "from sklearn.preprocessing import StandardScaler\n",
    "from sklearn.metrics.pairwise import cosine_similarity\n",
    "\n",
    "# ---------------- CONFIG ----------------\n",
    "INPUT_CSV  = r\"C:\\Users\\NSBMIT\\Documents\\MSc\\Data Analysis E Commerce Data Analysis\\data collection\\books.csv\"\n",
    "OUTPUT_DIR = \"./predictive_outputs\"\n",
    "os.makedirs(OUTPUT_DIR, exist_ok=True)\n",
    "\n",
    "# ---------------- Load and Prepare Data ----------------\n",
    "df = pd.read_csv(INPUT_CSV)\n",
    "print(\"Columns detected:\", list(df.columns))\n",
    "\n",
    "def coerce_price(x):\n",
    "    if pd.isna(x): return np.nan\n",
    "    s = re.sub(r\"[^\\d.,-]\", \"\", str(x))\n",
    "    if \",\" in s and \".\" in s: s = s.replace(\",\", \"\")\n",
    "    else: s = s.replace(\",\", \".\")\n",
    "    try: return float(s)\n",
    "    except: return np.nan\n",
    "\n",
    "def coerce_rating(x):\n",
    "    if pd.isna(x): return np.nan\n",
    "    s = str(x).lower()\n",
    "    mapping = {\"one\":1,\"two\":2,\"three\":3,\"four\":4,\"five\":5}\n",
    "    if s in mapping: return mapping[s]\n",
    "    m = re.search(r\"(\\d+(\\.\\d+)?)\", s)\n",
    "    return float(m.group(1)) if m else np.nan\n",
    "\n",
    "def extract_avail(x):\n",
    "    if pd.isna(x): return np.nan\n",
    "    m = re.search(r\"(\\d+)\", str(x))\n",
    "    return float(m.group(1)) if m else np.nan\n",
    "\n",
    "if \"price_num\" not in df.columns:\n",
    "    df[\"price_num\"] = df[\"price\"].apply(coerce_price)\n",
    "if \"rating_num\" not in df.columns:\n",
    "    df[\"rating_num\"] = df[\"rating\"].apply(coerce_rating)\n",
    "if \"availability_num\" not in df.columns:\n",
    "    df[\"availability_num\"] = df[\"availability\"].apply(extract_avail)\n",
    "\n",
    "category_col = \"category\" if \"category\" in df.columns else None\n",
    "\n",
    "# Drop rows missing key numeric fields\n",
    "df_model = df.dropna(subset=[\"price_num\",\"rating_num\"]).copy()\n",
    "\n",
    "# =======================================================\n",
    "# Simple Linear Regression: Predict price from rating\n",
    "# =======================================================\n",
    "if len(df_model) > 5:\n",
    "    X = df_model[[\"rating_num\"]].values\n",
    "    y = df_model[\"price_num\"].values\n",
    "    model = LinearRegression()\n",
    "    model.fit(X, y)\n",
    "    df_model[\"predicted_price\"] = model.predict(X)\n",
    "\n",
    "    r2 = r2_score(y, df_model[\"predicted_price\"])\n",
    "    coef = model.coef_[0]\n",
    "    intercept = model.intercept_\n",
    "\n",
    "    print(f\"Linear Regression: price ≈ {intercept:.2f} + {coef:.2f}*rating\")\n",
    "    print(f\"R² = {r2:.3f}\")\n",
    "\n",
    "    # Scatter + regression line\n",
    "    plt.figure(figsize=(8,6))\n",
    "    sns.regplot(x=\"rating_num\", y=\"price_num\", data=df_model,\n",
    "                scatter_kws={\"alpha\":0.5})\n",
    "    plt.title(f\"Price Prediction from Rating (R²={r2:.2f})\")\n",
    "    plt.xlabel(\"Rating\"); plt.ylabel(\"Price (£)\")\n",
    "    plt.tight_layout()\n",
    "    plt.savefig(f\"{OUTPUT_DIR}/linear_regression_price_vs_rating.png\", dpi=150)\n",
    "    plt.close()\n",
    "\n",
    "    # Save predictions\n",
    "    df_model.to_csv(f\"{OUTPUT_DIR}/price_prediction_results.csv\", index=False)\n",
    "\n",
    "# =======================================================\n",
    "# Category Pricing Patterns\n",
    "# =======================================================\n",
    "if category_col:\n",
    "    cat_summary = (df.groupby(category_col)[\"price_num\"]\n",
    "                   .agg([\"count\",\"mean\",\"median\",\"std\",\"min\",\"max\"])\n",
    "                   .sort_values(\"mean\", ascending=False))\n",
    "    cat_summary.to_csv(f\"{OUTPUT_DIR}/category_price_patterns.csv\")\n",
    "\n",
    "    plt.figure(figsize=(12,6))\n",
    "    cat_summary[\"mean\"].plot(kind=\"bar\", color=\"skyblue\")\n",
    "    plt.title(\"Average Price by Category\")\n",
    "    plt.ylabel(\"Average Price (£)\")\n",
    "    plt.xticks(rotation=90)\n",
    "    plt.tight_layout()\n",
    "    plt.savefig(f\"{OUTPUT_DIR}/category_average_price.png\", dpi=150)\n",
    "    plt.close()\n",
    "\n",
    "# =======================================================\n",
    "# Basic Recommendation System (statistical similarity)\n",
    "# =======================================================\n",
    "# We recommend books with similar (standardized) rating and price.\n",
    "rec_cols = [\"rating_num\",\"price_num\"]\n",
    "df_rec = df.dropna(subset=rec_cols).reset_index(drop=True)\n",
    "if len(df_rec) > 5:\n",
    "    scaler = StandardScaler()\n",
    "    features = scaler.fit_transform(df_rec[rec_cols])\n",
    "\n",
    "    sim_matrix = cosine_similarity(features)\n",
    "    rec_index = np.random.randint(0, len(df_rec))  # pick a random book to demo\n",
    "    rec_scores = sim_matrix[rec_index]\n",
    "    top_idx = np.argsort(rec_scores)[::-1][1:6]  # top 5 similar\n",
    "    recommendations = df_rec.iloc[top_idx][[\"title\",\"price\",\"rating\"]]\n",
    "    recommendations.to_csv(f\"{OUTPUT_DIR}/sample_recommendations.csv\", index=False)\n",
    "\n",
    "    print(f\"\\nSample recommendations for: {df_rec.loc[rec_index,'title']}\")\n",
    "    print(recommendations)\n",
    "\n",
    "# =======================================================\n",
    "# Trend Analysis: Stock availability vs price\n",
    "# =======================================================\n",
    "if df[\"availability_num\"].notna().sum() > 5:\n",
    "    plt.figure(figsize=(8,6))\n",
    "    sns.scatterplot(data=df, x=\"availability_num\", y=\"price_num\", alpha=0.6)\n",
    "    sns.regplot(data=df, x=\"availability_num\", y=\"price_num\", scatter=False,\n",
    "                color=\"red\", ci=None)\n",
    "    plt.title(\"Trend: Stock Availability vs Price\")\n",
    "    plt.xlabel(\"Stock Availability (estimated count)\")\n",
    "    plt.ylabel(\"Price (£)\")\n",
    "    plt.tight_layout()\n",
    "    plt.savefig(f\"{OUTPUT_DIR}/availability_vs_price_trend.png\", dpi=150)\n",
    "    plt.close()\n",
    "\n",
    "    # Correlation\n",
    "    corr = df[[\"availability_num\",\"price_num\"]].corr().iloc[0,1]\n",
    "    with open(f\"{OUTPUT_DIR}/availability_price_correlation.txt\",\"w\") as f:\n",
    "        f.write(f\"Correlation between availability and price: {corr:.3f}\\n\")\n",
    "\n",
    "print(f\"\\n Predictive analysis complete. See outputs in {os.path.abspath(OUTPUT_DIR)}\")\n"
   ]
  },
  {
   "cell_type": "code",
   "execution_count": null,
   "id": "36355786-0823-49f9-8ac2-ed4ea84cad66",
   "metadata": {},
   "outputs": [],
   "source": []
  }
 ],
 "metadata": {
  "kernelspec": {
   "display_name": "Python [conda env:base] *",
   "language": "python",
   "name": "conda-base-py"
  },
  "language_info": {
   "codemirror_mode": {
    "name": "ipython",
    "version": 3
   },
   "file_extension": ".py",
   "mimetype": "text/x-python",
   "name": "python",
   "nbconvert_exporter": "python",
   "pygments_lexer": "ipython3",
   "version": "3.13.5"
  }
 },
 "nbformat": 4,
 "nbformat_minor": 5
}
